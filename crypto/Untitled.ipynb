{
 "cells": [
  {
   "cell_type": "code",
   "execution_count": 1,
   "id": "63b27a69",
   "metadata": {},
   "outputs": [],
   "source": [
    "import requests\n",
    "from bs4 import BeautifulSoup\n",
    "import json\n",
    "import codecs\n",
    "from pandas.io.json import json_normalize"
   ]
  },
  {
   "cell_type": "code",
   "execution_count": 5,
   "id": "a91991ea",
   "metadata": {},
   "outputs": [],
   "source": [
    "url = 'https://dune.xyz/queries/4494/8769'\n",
    "#url = 'https://understat.com/player/2097'\n",
    "response = requests.get(url)\n",
    "soup = BeautifulSoup(response.text, 'html.parser')\n",
    "\n",
    "scripts = soup.find_all('script')"
   ]
  },
  {
   "cell_type": "code",
   "execution_count": 6,
   "id": "cfb5528b",
   "metadata": {},
   "outputs": [
    {
     "data": {
      "text/plain": [
       "[<script id=\"__NEXT_DATA__\" type=\"application/json\">{\"props\":{\"pageProps\":{\"preview\":false},\"__N_SSG\":true},\"page\":\"/queries/[[...slug]]\",\"query\":{\"slug\":[\"4494\",\"8769\"]},\"buildId\":\"YDXV3-t18SoHjA7ZWUhOg\",\"runtimeConfig\":{},\"nextExport\":false,\"isFallback\":false,\"gsp\":true}</script>,\n",
       " <script nomodule=\"\" src=\"/_next/static/chunks/polyfills-9539953565c531ba00df.js\"></script>,\n",
       " <script async=\"\" src=\"/_next/static/chunks/main-4e6bb3aa99c875d540e1.js\"></script>,\n",
       " <script async=\"\" src=\"/_next/static/chunks/webpack-bbca40fe0052fd126dda.js\"></script>,\n",
       " <script async=\"\" src=\"/_next/static/chunks/framework.c2418a016219d795168a.js\"></script>,\n",
       " <script async=\"\" src=\"/_next/static/chunks/500f6f06.3126639305a2b60bd683.js\"></script>,\n",
       " <script async=\"\" src=\"/_next/static/chunks/c6da38952ba33ba8d1f95605182ad0713a38ad55.e3591ff530398c92aa08.js\"></script>,\n",
       " <script async=\"\" src=\"/_next/static/chunks/cd2baf50002d935635f37db5e4a5d221cb7e843c.c7380a4ce6f684be7ac9.js\"></script>,\n",
       " <script async=\"\" src=\"/_next/static/chunks/pages/_app-ba1cd257905429718fe5.js\"></script>,\n",
       " <script async=\"\" src=\"/_next/static/chunks/1bfc9850.c99004b41a2410e0fee3.js\"></script>,\n",
       " <script async=\"\" src=\"/_next/static/chunks/78e521c3.81cf2603b8f2f622e44e.js\"></script>,\n",
       " <script async=\"\" src=\"/_next/static/chunks/d7eeaac4.bf75f379f58c7a57f28d.js\"></script>,\n",
       " <script async=\"\" src=\"/_next/static/chunks/1a48c3c1.c706c532edda456711db.js\"></script>,\n",
       " <script async=\"\" src=\"/_next/static/chunks/0c428ae2.3b82c7deae4c2af77570.js\"></script>,\n",
       " <script async=\"\" src=\"/_next/static/chunks/86caa72fe0657792865971e2cd2745b6ff5752a0.f9b6300967713a1b21f5.js\"></script>,\n",
       " <script async=\"\" src=\"/_next/static/chunks/86caa72fe0657792865971e2cd2745b6ff5752a0_CSS.f6584926f1188e1b5b3e.js\"></script>,\n",
       " <script async=\"\" src=\"/_next/static/chunks/1397b7c10263bdc8f26b7567bfd97a395f09dc71.18c944020bb3bef88e2e.js\"></script>,\n",
       " <script async=\"\" src=\"/_next/static/chunks/fa13854b8e7ea7aea018e01c1065b01698d517b1.1b68b76aab20e516e420.js\"></script>,\n",
       " <script async=\"\" src=\"/_next/static/chunks/8c4019352fc7aa2293c10e04b343e282b1f047fa.f748b7fbad564ed03916.js\"></script>,\n",
       " <script async=\"\" src=\"/_next/static/chunks/8cb94a36b000c0d005d24652f42317c76731893f.d0caab6464410409e4bb.js\"></script>,\n",
       " <script async=\"\" src=\"/_next/static/chunks/8cb94a36b000c0d005d24652f42317c76731893f_CSS.ab0233476a26df96d326.js\"></script>,\n",
       " <script async=\"\" src=\"/_next/static/chunks/8b06060d2f1fd13d2af7860955f1cf9c19f634f1.ac81a423178634db0dec.js\"></script>,\n",
       " <script async=\"\" src=\"/_next/static/chunks/pages/queries/%5B%5B...slug%5D%5D-c2b7fa17f823e8d69e3a.js\"></script>,\n",
       " <script async=\"\" src=\"/_next/static/YDXV3-t18SoHjA7ZWUhOg/_buildManifest.js\"></script>,\n",
       " <script async=\"\" src=\"/_next/static/YDXV3-t18SoHjA7ZWUhOg/_ssgManifest.js\"></script>]"
      ]
     },
     "execution_count": 6,
     "metadata": {},
     "output_type": "execute_result"
    }
   ],
   "source": [
    "scripts"
   ]
  },
  {
   "cell_type": "code",
   "execution_count": 8,
   "id": "9c2d692e",
   "metadata": {},
   "outputs": [],
   "source": [
    "url = \"https://dune.xyz/queries/4494/8769\"\n",
    "resp = requests.get(url)\n",
    "data = resp.text\n",
    "\n",
    "soup = BeautifulSoup(data, features=\"html.parser\")\n",
    "\n",
    "rects = soup.svg.find_all(\"rect\")\n",
    "yx_points = []\n",
    "for rect in rects:\n",
    "    if rect.has_attr(\"onmouseover\"):\n",
    "        text = rect[\"onmouseover\"]\n",
    "        x_start_index = text.index(\"'\") + 1\n",
    "        y_finish_index = text[x_start_index:].index(\"'\") + x_start_index\n",
    "        yx = text[x_start_index:y_finish_index].split()\n",
    "        print(text[x_start_index:y_finish_index])\n",
    "        yx_points.append(yx)"
   ]
  },
  {
   "cell_type": "code",
   "execution_count": 9,
   "id": "1d7f4f71",
   "metadata": {},
   "outputs": [
    {
     "data": {
      "text/plain": [
       "[]"
      ]
     },
     "execution_count": 9,
     "metadata": {},
     "output_type": "execute_result"
    }
   ],
   "source": [
    "yx_points"
   ]
  },
  {
   "cell_type": "code",
   "execution_count": null,
   "id": "d5445877",
   "metadata": {},
   "outputs": [],
   "source": [
    "df"
   ]
  },
  {
   "cell_type": "code",
   "execution_count": null,
   "id": "df769c6b",
   "metadata": {},
   "outputs": [],
   "source": []
  }
 ],
 "metadata": {
  "kernelspec": {
   "display_name": "Python 3 (ipykernel)",
   "language": "python",
   "name": "python3"
  },
  "language_info": {
   "codemirror_mode": {
    "name": "ipython",
    "version": 3
   },
   "file_extension": ".py",
   "mimetype": "text/x-python",
   "name": "python",
   "nbconvert_exporter": "python",
   "pygments_lexer": "ipython3",
   "version": "3.7.9"
  }
 },
 "nbformat": 4,
 "nbformat_minor": 5
}
