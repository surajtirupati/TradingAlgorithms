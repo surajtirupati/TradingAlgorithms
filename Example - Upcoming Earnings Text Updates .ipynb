{
 "cells": [
  {
   "cell_type": "code",
   "execution_count": 4,
   "id": "a27a7420",
   "metadata": {},
   "outputs": [],
   "source": [
    "from bs4 import BeautifulSoup\n",
    "from twilio.rest import Client\n",
    "from datetime import datetime\n",
    "import pandas as pd\n",
    "import requests"
   ]
  },
  {
   "cell_type": "markdown",
   "id": "c40ddebc",
   "metadata": {},
   "source": [
    "# Application #1: Upcoming Earnings Text Updates\n",
    "\n",
    "This Notebook contains a script that scans for company's that are releasing their earnings today. It will return a dataframe containing the tickers that are releasing their earnings. It will then send a text message to my mobile using Twilio with the formatted information regarding which companies are reporting today. \n",
    "\n",
    "This list of tickers will then subsequently be used to check if any of the stocks are currently consolidating using our function from the \"Signals\" notebook. \n",
    "\n",
    "### Upcoming Earnings for all US Companies"
   ]
  },
  {
   "cell_type": "code",
   "execution_count": 2,
   "id": "403d6598",
   "metadata": {},
   "outputs": [
    {
     "data": {
      "text/html": [
       "<div>\n",
       "<style scoped>\n",
       "    .dataframe tbody tr th:only-of-type {\n",
       "        vertical-align: middle;\n",
       "    }\n",
       "\n",
       "    .dataframe tbody tr th {\n",
       "        vertical-align: top;\n",
       "    }\n",
       "\n",
       "    .dataframe thead th {\n",
       "        text-align: right;\n",
       "    }\n",
       "</style>\n",
       "<table border=\"1\" class=\"dataframe\">\n",
       "  <thead>\n",
       "    <tr style=\"text-align: right;\">\n",
       "      <th></th>\n",
       "      <th>Symbol</th>\n",
       "      <th>Name</th>\n",
       "      <th>Release Time</th>\n",
       "    </tr>\n",
       "    <tr>\n",
       "      <th>Release Date</th>\n",
       "      <th></th>\n",
       "      <th></th>\n",
       "      <th></th>\n",
       "    </tr>\n",
       "  </thead>\n",
       "  <tbody>\n",
       "    <tr>\n",
       "      <th>10/01/2021</th>\n",
       "      <td>KFMNF</td>\n",
       "      <td>Kaufman &amp; Broad S.A.</td>\n",
       "      <td>Post-Market</td>\n",
       "    </tr>\n",
       "    <tr>\n",
       "      <th>10/01/2021</th>\n",
       "      <td>JDWPF</td>\n",
       "      <td>J D Wetherspoon plc</td>\n",
       "      <td>Estimated</td>\n",
       "    </tr>\n",
       "    <tr>\n",
       "      <th>10/01/2021</th>\n",
       "      <td>DSKIF</td>\n",
       "      <td>Daiseki Co.,Ltd.</td>\n",
       "      <td>Estimated</td>\n",
       "    </tr>\n",
       "    <tr>\n",
       "      <th>10/01/2021</th>\n",
       "      <td>ZOJIF</td>\n",
       "      <td>Zojirushi Corporation</td>\n",
       "      <td>Estimated</td>\n",
       "    </tr>\n",
       "    <tr>\n",
       "      <th>10/01/2021</th>\n",
       "      <td>PSLKF</td>\n",
       "      <td>Phoslock Environmental Technologies Limited</td>\n",
       "      <td>Estimated</td>\n",
       "    </tr>\n",
       "  </tbody>\n",
       "</table>\n",
       "</div>"
      ],
      "text/plain": [
       "             Symbol                                         Name Release Time\n",
       "Release Date                                                                 \n",
       "10/01/2021    KFMNF                         Kaufman & Broad S.A.  Post-Market\n",
       "10/01/2021    JDWPF                          J D Wetherspoon plc    Estimated\n",
       "10/01/2021    DSKIF                             Daiseki Co.,Ltd.    Estimated\n",
       "10/01/2021    ZOJIF                        Zojirushi Corporation    Estimated\n",
       "10/01/2021    PSLKF  Phoslock Environmental Technologies Limited    Estimated"
      ]
     },
     "execution_count": 2,
     "metadata": {},
     "output_type": "execute_result"
    }
   ],
   "source": [
    "# initialising empty dataframe which will hold all tickers\n",
    "df = pd.DataFrame()\n",
    "\n",
    "# defining headers to simulate a browser call (helps get past some websites' defences against scraping)\n",
    "headers = {\n",
    "    'Accept': 'text/html,application/xhtml+xml,application/xml;q=0.9,image/webp,image/apng,*/*;q=0.8,application/signed-exchange;v=b3',\n",
    "    'Accept-Encoding': 'gzip, deflate, br',\n",
    "    'Accept-Language': 'en-US,en;q=0.9',\n",
    "    'Cache-Control': 'max-age=0',\n",
    "    'Connection': 'close',\n",
    "    'DNT': '1', # Do Not Track Request Header \n",
    "    'Pragma': 'no-cache',\n",
    "    'Referrer': 'https://google.com',\n",
    "    'User-Agent': 'Mozilla/5.0 (Windows NT 10.0; Win64; x64) AppleWebKit/537.36 (KHTML, like Gecko) Chrome/92.0.4515.107 Safari/537.36'\n",
    "}\n",
    "\n",
    "for i in range(1, 5):\n",
    "    \n",
    "    # the URL which updates on each loop iteration\n",
    "    url = \"https://seekingalpha.com/earnings/earnings-calendar/{}\".format(i)\n",
    "\n",
    "    # Make a GET request to fetch the raw HTML content\n",
    "    html_content = requests.get(url, headers=headers).text\n",
    "\n",
    "    # get the HTML content\n",
    "    soup = BeautifulSoup(html_content, \"lxml\")\n",
    "\n",
    "    # obtaining tables\n",
    "    table = soup.find_all('table')\n",
    "    \n",
    "    # indexing the relevant tables to obtain data of interest\n",
    "    data = pd.read_html(str(table))[0].set_index(\"Release Date\").iloc[:,:-1]\n",
    "    \n",
    "    df = df.append(data)\n",
    "    \n",
    "df.head(5)"
   ]
  },
  {
   "cell_type": "markdown",
   "id": "2b00064f",
   "metadata": {},
   "source": [
    "### Formatting the data to send a text message"
   ]
  },
  {
   "cell_type": "code",
   "execution_count": 3,
   "id": "f168af2c",
   "metadata": {},
   "outputs": [],
   "source": [
    "df.index = pd.to_datetime(df.index)\n",
    "\n",
    "today = datetime.today().strftime('%Y-%m-%d')\n",
    "\n",
    "todays_companys = df[df.index == today]\n",
    "\n",
    "info = []\n",
    "\n",
    "for i in range(len(todays_companys)):\n",
    "    todays_companys.iloc[i, :]\n",
    "    \n",
    "    string = \"{} ({}) is reporting today. The release time is {}.\".format(todays_companys.iloc[i, :][\"Name\"], todays_companys.iloc[i, :][\"Symbol\"], todays_companys.iloc[i, :][\"Release Time\"])\n",
    "    \n",
    "    info.append(string)\n",
    "    \n",
    "msg = \"\\n\".join(info)"
   ]
  },
  {
   "cell_type": "markdown",
   "id": "da21de15",
   "metadata": {},
   "source": [
    "### Sending a text with Twilio"
   ]
  },
  {
   "cell_type": "code",
   "execution_count": null,
   "id": "8cb3ec75",
   "metadata": {},
   "outputs": [],
   "source": [
    "# the following line needs your Twilio Account SID and Auth Token\n",
    "client = Client(\"ACe737e611e4524cdf0ed7feb19d4ef564\", \"044ca567300180705e108e76715dd60e\")\n",
    "\n",
    "# change the \"from_\" number to your Twilio number and the \"to\" number\n",
    "# to the phone number you signed up for Twilio with, or upgrade your\n",
    "# account to send SMS to any phone number\n",
    "client.messages.create(to=\"+447719104171\", from_=\"+447897033826\", body=msg)"
   ]
  }
 ],
 "metadata": {
  "kernelspec": {
   "display_name": "Python 3 (ipykernel)",
   "language": "python",
   "name": "python3"
  },
  "language_info": {
   "codemirror_mode": {
    "name": "ipython",
    "version": 3
   },
   "file_extension": ".py",
   "mimetype": "text/x-python",
   "name": "python",
   "nbconvert_exporter": "python",
   "pygments_lexer": "ipython3",
   "version": "3.7.9"
  }
 },
 "nbformat": 4,
 "nbformat_minor": 5
}
