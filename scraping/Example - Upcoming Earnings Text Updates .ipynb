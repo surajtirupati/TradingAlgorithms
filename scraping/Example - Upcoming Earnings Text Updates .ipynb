{
 "cells": [
  {
   "cell_type": "code",
   "execution_count": 1,
   "id": "a27a7420",
   "metadata": {},
   "outputs": [],
   "source": [
    "from bs4 import BeautifulSoup\n",
    "from twilio.rest import Client\n",
    "from datetime import datetime, timedelta\n",
    "import yfinance as yf\n",
    "import pandas as pd\n",
    "import requests"
   ]
  },
  {
   "cell_type": "markdown",
   "id": "c40ddebc",
   "metadata": {},
   "source": [
    "# Application #1: Upcoming Earnings Text Updates\n",
    "\n",
    "This Notebook contains a script that scans for company's that are releasing their earnings today. It will return a dataframe containing the tickers that are releasing their earnings. It will then send a text message to my mobile using Twilio with the formatted information regarding which companies are reporting today. \n",
    "\n",
    "This list of tickers will then subsequently be used to check if any of the stocks are currently consolidating using our function from the \"Signals\" notebook. \n",
    "\n",
    "### Upcoming Earnings for all US Companies"
   ]
  },
  {
   "cell_type": "code",
   "execution_count": 2,
   "id": "403d6598",
   "metadata": {},
   "outputs": [
    {
     "data": {
      "text/html": [
       "<div>\n",
       "<style scoped>\n",
       "    .dataframe tbody tr th:only-of-type {\n",
       "        vertical-align: middle;\n",
       "    }\n",
       "\n",
       "    .dataframe tbody tr th {\n",
       "        vertical-align: top;\n",
       "    }\n",
       "\n",
       "    .dataframe thead th {\n",
       "        text-align: right;\n",
       "    }\n",
       "</style>\n",
       "<table border=\"1\" class=\"dataframe\">\n",
       "  <thead>\n",
       "    <tr style=\"text-align: right;\">\n",
       "      <th></th>\n",
       "      <th>Symbol</th>\n",
       "      <th>Name</th>\n",
       "      <th>Release Time</th>\n",
       "    </tr>\n",
       "    <tr>\n",
       "      <th>Release Date</th>\n",
       "      <th></th>\n",
       "      <th></th>\n",
       "      <th></th>\n",
       "    </tr>\n",
       "  </thead>\n",
       "  <tbody>\n",
       "    <tr>\n",
       "      <th>10/07/2021</th>\n",
       "      <td>CAG</td>\n",
       "      <td>Conagra Brands, Inc.</td>\n",
       "      <td>Pre-Market</td>\n",
       "    </tr>\n",
       "    <tr>\n",
       "      <th>10/07/2021</th>\n",
       "      <td>HELE</td>\n",
       "      <td>Helen of Troy Limited</td>\n",
       "      <td>Pre-Market</td>\n",
       "    </tr>\n",
       "    <tr>\n",
       "      <th>10/07/2021</th>\n",
       "      <td>PKE</td>\n",
       "      <td>Park Aerospace Corp.</td>\n",
       "      <td>Pre-Market</td>\n",
       "    </tr>\n",
       "    <tr>\n",
       "      <th>10/07/2021</th>\n",
       "      <td>TNP</td>\n",
       "      <td>Tsakos Energy Navigation Limited</td>\n",
       "      <td>Pre-Market</td>\n",
       "    </tr>\n",
       "    <tr>\n",
       "      <th>10/07/2021</th>\n",
       "      <td>TLRY</td>\n",
       "      <td>Tilray, Inc.</td>\n",
       "      <td>Pre-Market</td>\n",
       "    </tr>\n",
       "  </tbody>\n",
       "</table>\n",
       "</div>"
      ],
      "text/plain": [
       "             Symbol                              Name Release Time\n",
       "Release Date                                                      \n",
       "10/07/2021      CAG              Conagra Brands, Inc.   Pre-Market\n",
       "10/07/2021     HELE             Helen of Troy Limited   Pre-Market\n",
       "10/07/2021      PKE              Park Aerospace Corp.   Pre-Market\n",
       "10/07/2021      TNP  Tsakos Energy Navigation Limited   Pre-Market\n",
       "10/07/2021     TLRY                      Tilray, Inc.   Pre-Market"
      ]
     },
     "execution_count": 2,
     "metadata": {},
     "output_type": "execute_result"
    }
   ],
   "source": [
    "# initialising empty dataframe which will hold all tickers\n",
    "df = pd.DataFrame()\n",
    "\n",
    "# defining headers to simulate a browser call (helps get past some websites' defences against scraping)\n",
    "headers = {\n",
    "    'Accept': 'text/html,application/xhtml+xml,application/xml;q=0.9,image/webp,image/apng,*/*;q=0.8,application/signed-exchange;v=b3',\n",
    "    'Accept-Encoding': 'gzip, deflate, br',\n",
    "    'Accept-Language': 'en-US,en;q=0.9',\n",
    "    'Cache-Control': 'max-age=0',\n",
    "    'Connection': 'close',\n",
    "    'DNT': '1', # Do Not Track Request Header \n",
    "    'Pragma': 'no-cache',\n",
    "    'Referrer': 'https://google.com',\n",
    "    'User-Agent': 'Mozilla/5.0 (Windows NT 10.0; Win64; x64) AppleWebKit/537.36 (KHTML, like Gecko) Chrome/92.0.4515.107 Safari/537.36'\n",
    "}\n",
    "\n",
    "for i in range(1, 5):\n",
    "    \n",
    "    # the URL which updates on each loop iteration\n",
    "    url = \"https://seekingalpha.com/earnings/earnings-calendar/{}\".format(i)\n",
    "\n",
    "    # Make a GET request to fetch the raw HTML content\n",
    "    html_content = requests.get(url, headers=headers).text\n",
    "\n",
    "    # get the HTML content\n",
    "    soup = BeautifulSoup(html_content, \"lxml\")\n",
    "\n",
    "    # obtaining tables\n",
    "    table = soup.find_all('table')\n",
    "    \n",
    "    # indexing the relevant tables to obtain data of interest\n",
    "    data = pd.read_html(str(table))[0].set_index(\"Release Date\").iloc[:,:-1]\n",
    "    \n",
    "    df = df.append(data)\n",
    "    \n",
    "df.head(5)"
   ]
  },
  {
   "cell_type": "markdown",
   "id": "abb8fa53",
   "metadata": {},
   "source": [
    "### Finding out which Companies reporting next week are consolidating now "
   ]
  },
  {
   "cell_type": "code",
   "execution_count": 3,
   "id": "f37de222",
   "metadata": {},
   "outputs": [],
   "source": [
    "def currently_consolidating(series, perc_range):\n",
    "    \n",
    "    high = series.max()\n",
    "    low = series.min()\n",
    "\n",
    "    tmp = high * (100 - perc_range)/100\n",
    "\n",
    "    if low > tmp:\n",
    "        return True\n",
    "    \n",
    "    else:\n",
    "        return False\n",
    "\n",
    "df.index = pd.to_datetime(df.index)\n",
    "today = datetime.today().strftime('%Y-%m-%d')\n",
    "reporting_this_week = df[df.index < pd.to_datetime(today) + timedelta(weeks=1)]\n",
    "tickers = list(reporting_this_week[\"Symbol\"].values)"
   ]
  },
  {
   "cell_type": "markdown",
   "id": "9eb443f6",
   "metadata": {},
   "source": [
    "### Removing unavailable tickers from tickers list (read from file)"
   ]
  },
  {
   "cell_type": "code",
   "execution_count": null,
   "id": "2d348af2",
   "metadata": {},
   "outputs": [],
   "source": [
    "# reading from text file and converting unavailable tickers to list \n",
    "with open (\"no_data.txt\", \"r\") as myfile:\n",
    "    data = myfile.readlines()\n",
    "    \n",
    "unavailable_data = [d.replace(\",\\n\", \"\") for d in data]\n",
    "\n",
    "# removing said elements \n",
    "for val in unavailable_data:\n",
    "    if val in tickers:\n",
    "        tickers.remove(val)"
   ]
  },
  {
   "cell_type": "markdown",
   "id": "3571f572",
   "metadata": {},
   "source": [
    "### Finding consolidating, limited data, and unavailable tickers"
   ]
  },
  {
   "cell_type": "code",
   "execution_count": 4,
   "id": "5cc46a01",
   "metadata": {},
   "outputs": [
    {
     "name": "stdout",
     "output_type": "stream",
     "text": [
      "- BDRSF: No data found for this date range, symbol may be delisted\n",
      "- SVMLF: No data found, symbol may be delisted\n",
      "- ZEUUF: No data found, symbol may be delisted\n",
      "- QPMLF: No data found, symbol may be delisted\n",
      "- HPTY: No data found, symbol may be delisted\n",
      "- INLCF: No data found, symbol may be delisted\n",
      "- GMNGF: No data found, symbol may be delisted\n",
      "- APHD: No data found, symbol may be delisted\n",
      "- BIGN: No data found for this date range, symbol may be delisted\n",
      "1: CNBKA is currently consolidating.\n",
      "- SYITF: No data found for this date range, symbol may be delisted\n",
      "- RGRLF: No data found for this date range, symbol may be delisted\n",
      "- BLIXF: No data found, symbol may be delisted\n",
      "- APCDF: No data found for this date range, symbol may be delisted\n",
      "- REEGF: No data found, symbol may be delisted\n",
      "- MOBXF: No data found for this date range, symbol may be delisted\n",
      "- PNFTF: No data found for this date range, symbol may be delisted\n",
      "- IPPTF: No data found for this date range, symbol may be delisted\n",
      "- NPMFF: No data found, symbol may be delisted\n",
      "- PRSTF: No data found, symbol may be delisted\n",
      "- PDIYF: No data found, symbol may be delisted\n",
      "- RTRFF: No data found, symbol may be delisted\n",
      "- ALDRF: No data found, symbol may be delisted\n",
      "- RVSGF: No data found, symbol may be delisted\n",
      "- BGORF: No data found, symbol may be delisted\n",
      "- SPHNF: No data found, symbol may be delisted\n",
      "- CRLLF: No data found, symbol may be delisted\n",
      "- GSSPF: No data found, symbol may be delisted\n",
      "- MXVAF: No data found, symbol may be delisted\n",
      "- GHHH: No data found, symbol may be delisted\n",
      "- QEMFF: No data found, symbol may be delisted\n",
      "- SHHFF: No data found for this date range, symbol may be delisted\n",
      "- KAURF: No data found, symbol may be delisted\n",
      "- RBGGF: No data found, symbol may be delisted\n",
      "- TMBIF: No data found, symbol may be delisted\n",
      "2: EUSG is currently consolidating.\n",
      "- AEBLF: No data found, symbol may be delisted\n",
      "- CZYRF: No data found, symbol may be delisted\n",
      "- FLMZF: No data found, symbol may be delisted\n",
      "- SELT: No data found, symbol may be delisted\n",
      "- DUKMF: No data found, symbol may be delisted\n",
      "- AQXNF: No data found, symbol may be delisted\n",
      "- TMAUF: No data found, symbol may be delisted\n",
      "- CAWRF: No data found, symbol may be delisted\n",
      "- OARRF: No data found, symbol may be delisted\n",
      "- AFMCF: No data found, symbol may be delisted\n",
      "- ATPT: No data found, symbol may be delisted\n",
      "- DNEMF: No data found, symbol may be delisted\n",
      "- MXVDF: No data found, symbol may be delisted\n",
      "- RHRYF: No data found for this date range, symbol may be delisted\n",
      "- ECGFF: No data found for this date range, symbol may be delisted\n",
      "- SENY: No data found, symbol may be delisted\n",
      "- ANVMF: No data found, symbol may be delisted\n",
      "- URSL: No data found, symbol may be delisted\n",
      "- DAVNF: No data found, symbol may be delisted\n",
      "- UTWTF: No data found for this date range, symbol may be delisted\n"
     ]
    }
   ],
   "source": [
    "unavailable_tickers = []\n",
    "consolidating_tickers = []\n",
    "lookback = 15\n",
    "percentage = 2\n",
    "count = 1\n",
    "\n",
    "for i, ticker in enumerate(tickers):\n",
    "    \n",
    "    stock = yf.Ticker(ticker).history(period=\"{}d\".format(lookback))\n",
    "    \n",
    "    if stock.empty:\n",
    "        unavailable_tickers.append(ticker)\n",
    "        \n",
    "    elif len(stock) != 15:\n",
    "        unavailable_tickers.append(ticker)\n",
    "        \n",
    "    else:\n",
    "        if currently_consolidating(stock[\"Close\"], percentage):\n",
    "            print(\"{}: {} is currently consolidating.\".format(count, ticker))\n",
    "            consolidating_tickers.append(ticker)\n",
    "            count += 1\n",
    "        "
   ]
  },
  {
   "cell_type": "markdown",
   "id": "943a29d1",
   "metadata": {},
   "source": [
    "### Updating File\n",
    "- Read empty list from unavail_tickers \n",
    "- update list with unavailable tickers\n",
    "- write back to file"
   ]
  },
  {
   "cell_type": "code",
   "execution_count": 60,
   "id": "570df7cf",
   "metadata": {},
   "outputs": [],
   "source": [
    "# 1 opening file\n",
    "f = open(\"no_data.txt\", 'a')\n",
    "\n",
    "# 2 set of new unavailable tickers\n",
    "ut = set(unavailable_tickers)\n",
    "\n",
    "# 3 writing unavailable tickers to file\n",
    "for t in ut:\n",
    "    f.write(\"{},\".format(t))\n",
    "    f.write('\\n')"
   ]
  },
  {
   "cell_type": "markdown",
   "id": "2b00064f",
   "metadata": {},
   "source": [
    "### Formatting the data to send a text message\n",
    "- first cell: consolidating in the upcoming week\n",
    "- second cell: reporting today"
   ]
  },
  {
   "cell_type": "code",
   "execution_count": 89,
   "id": "b1156e03",
   "metadata": {},
   "outputs": [],
   "source": [
    "info = []\n",
    "\n",
    "for i in range(len(consolidating_tickers)):\n",
    "    \n",
    "    line = df[df[\"Symbol\"] == consolidating_tickers[i]]\n",
    "    \n",
    "    string = \"{} ({}) is consolidating and reporting on {}. The release time is {}.\".format(line[\"Name\"].values[0], line[\"Symbol\"].values[0], str(line.index[0])[:10], line[\"Release Time\"].values[0])\n",
    "    \n",
    "    info.append(string)\n",
    "    \n",
    "msg1 = \"\\n\".join(info)"
   ]
  },
  {
   "cell_type": "code",
   "execution_count": 91,
   "id": "f168af2c",
   "metadata": {},
   "outputs": [],
   "source": [
    "df.index = pd.to_datetime(df.index)\n",
    "\n",
    "today = datetime.today().strftime('%Y-%m-%d')\n",
    "\n",
    "todays_companys = df[df.index == today]\n",
    "\n",
    "info = []\n",
    "\n",
    "for i in range(len(todays_companys)):\n",
    "    todays_companys.iloc[i, :]\n",
    "    \n",
    "    string = \"{} ({}) is reporting today. The release time is {}.\".format(todays_companys.iloc[i, :][\"Name\"], todays_companys.iloc[i, :][\"Symbol\"], todays_companys.iloc[i, :][\"Release Time\"])\n",
    "    \n",
    "    info.append(string)\n",
    "    \n",
    "msg2 = \"\\n\".join(info)"
   ]
  },
  {
   "cell_type": "markdown",
   "id": "da21de15",
   "metadata": {},
   "source": [
    "### Sending a text with Twilio"
   ]
  },
  {
   "cell_type": "code",
   "execution_count": null,
   "id": "8cb3ec75",
   "metadata": {},
   "outputs": [],
   "source": [
    "# the following line needs your Twilio Account SID and Auth Token\n",
    "client = Client(\"ACe737e611e4524cdf0ed7feb19d4ef564\", \"044ca567300180705e108e76715dd60e\")\n",
    "\n",
    "# change the \"from_\" number to your Twilio number and the \"to\" number\n",
    "# to the phone number you signed up for Twilio with, or upgrade your\n",
    "# account to send SMS to any phone number\n",
    "client.messages.create(to=\"+447719104171\", from_=\"+447897033826\", body=msg)"
   ]
  }
 ],
 "metadata": {
  "kernelspec": {
   "display_name": "Python 3 (ipykernel)",
   "language": "python",
   "name": "python3"
  },
  "language_info": {
   "codemirror_mode": {
    "name": "ipython",
    "version": 3
   },
   "file_extension": ".py",
   "mimetype": "text/x-python",
   "name": "python",
   "nbconvert_exporter": "python",
   "pygments_lexer": "ipython3",
   "version": "3.7.9"
  }
 },
 "nbformat": 4,
 "nbformat_minor": 5
}
