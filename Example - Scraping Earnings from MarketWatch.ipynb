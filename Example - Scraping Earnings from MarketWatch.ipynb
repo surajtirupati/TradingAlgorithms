{
 "cells": [
  {
   "cell_type": "code",
   "execution_count": 1,
   "id": "ee89a07e",
   "metadata": {},
   "outputs": [],
   "source": [
    "from bs4 import BeautifulSoup\n",
    "import requests\n",
    "import pandas as pd\n",
    "from marketwatchfundamentalscrape import *"
   ]
  },
  {
   "cell_type": "markdown",
   "id": "a903cb40",
   "metadata": {},
   "source": [
    "# Application: Scraping Fundamental Data from MarketWatch"
   ]
  },
  {
   "cell_type": "code",
   "execution_count": 8,
   "id": "11a36afb",
   "metadata": {},
   "outputs": [
    {
     "data": {
      "text/html": [
       "<div>\n",
       "<style scoped>\n",
       "    .dataframe tbody tr th:only-of-type {\n",
       "        vertical-align: middle;\n",
       "    }\n",
       "\n",
       "    .dataframe tbody tr th {\n",
       "        vertical-align: top;\n",
       "    }\n",
       "\n",
       "    .dataframe thead th {\n",
       "        text-align: right;\n",
       "    }\n",
       "</style>\n",
       "<table border=\"1\" class=\"dataframe\">\n",
       "  <thead>\n",
       "    <tr style=\"text-align: right;\">\n",
       "      <th></th>\n",
       "      <th>30-Jun-2020</th>\n",
       "      <th>30-Sep-2020</th>\n",
       "      <th>31-Dec-2020</th>\n",
       "      <th>31-Mar-2021</th>\n",
       "      <th>30-Jun-2021</th>\n",
       "    </tr>\n",
       "  </thead>\n",
       "  <tbody>\n",
       "    <tr>\n",
       "      <th>Cash&amp;ShortTermInvestments</th>\n",
       "      <td>93050000000</td>\n",
       "      <td>90980000000</td>\n",
       "      <td>76830000000</td>\n",
       "      <td>69830000000</td>\n",
       "      <td>61700000000</td>\n",
       "    </tr>\n",
       "    <tr>\n",
       "      <th>Cash&amp;ShortTermInvestmentsGrowth</th>\n",
       "      <td>-</td>\n",
       "      <td>-2.23%</td>\n",
       "      <td>-15.56%</td>\n",
       "      <td>-9.10%</td>\n",
       "      <td>-11.65%</td>\n",
       "    </tr>\n",
       "    <tr>\n",
       "      <th>CashOnly</th>\n",
       "      <td>27300000000</td>\n",
       "      <td>19980000000</td>\n",
       "      <td>25040000000</td>\n",
       "      <td>31440000000</td>\n",
       "      <td>24420000000</td>\n",
       "    </tr>\n",
       "    <tr>\n",
       "      <th>Short-TermInvestments</th>\n",
       "      <td>-</td>\n",
       "      <td>-</td>\n",
       "      <td>-</td>\n",
       "      <td>-</td>\n",
       "      <td>-</td>\n",
       "    </tr>\n",
       "    <tr>\n",
       "      <th>Cash&amp;STInvestments/TotalAssets</th>\n",
       "      <td>29.32%</td>\n",
       "      <td>28.09%</td>\n",
       "      <td>21.70%</td>\n",
       "      <td>20.71%</td>\n",
       "      <td>18.70%</td>\n",
       "    </tr>\n",
       "  </tbody>\n",
       "</table>\n",
       "</div>"
      ],
      "text/plain": [
       "                                 30-Jun-2020  30-Sep-2020  31-Dec-2020  \\\n",
       "Cash&ShortTermInvestments        93050000000  90980000000  76830000000   \n",
       "Cash&ShortTermInvestmentsGrowth            -       -2.23%      -15.56%   \n",
       "CashOnly                         27300000000  19980000000  25040000000   \n",
       "Short-TermInvestments                      -            -            -   \n",
       "Cash&STInvestments/TotalAssets        29.32%       28.09%       21.70%   \n",
       "\n",
       "                                 31-Mar-2021  30-Jun-2021  \n",
       "Cash&ShortTermInvestments        69830000000  61700000000  \n",
       "Cash&ShortTermInvestmentsGrowth       -9.10%      -11.65%  \n",
       "CashOnly                         31440000000  24420000000  \n",
       "Short-TermInvestments                      -            -  \n",
       "Cash&STInvestments/TotalAssets        20.71%       18.70%  "
      ]
     },
     "execution_count": 8,
     "metadata": {},
     "output_type": "execute_result"
    }
   ],
   "source": [
    "# defining the inputs\n",
    "stock = \"AAPL\" # defining the stock of interest\n",
    "statement = \"bs\" # inc, bs, or cf\n",
    "period = \"quarter\" # defining desired granularity period of data: either 'quarter' or 'annual'\n",
    "\n",
    "# obtain the data\n",
    "df = obtain_fundamentals(stock, statement, period)\n",
    "\n",
    "df.head()"
   ]
  }
 ],
 "metadata": {
  "kernelspec": {
   "display_name": "Python 3 (ipykernel)",
   "language": "python",
   "name": "python3"
  },
  "language_info": {
   "codemirror_mode": {
    "name": "ipython",
    "version": 3
   },
   "file_extension": ".py",
   "mimetype": "text/x-python",
   "name": "python",
   "nbconvert_exporter": "python",
   "pygments_lexer": "ipython3",
   "version": "3.7.9"
  }
 },
 "nbformat": 4,
 "nbformat_minor": 5
}
