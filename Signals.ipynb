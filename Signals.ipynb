{
 "cells": [
  {
   "cell_type": "code",
   "execution_count": 2,
   "id": "794f51af",
   "metadata": {},
   "outputs": [],
   "source": [
    "import pandas as pd \n",
    "import numpy as np \n",
    "import yfinance as yf\n",
    "import matplotlib.pyplot as plt\n",
    "from datetime import datetime, timedelta\n",
    "import warnings\n",
    "warnings.filterwarnings(\"ignore\")"
   ]
  },
  {
   "cell_type": "markdown",
   "id": "f3e58810",
   "metadata": {},
   "source": [
    "## Importing Sample Data to test signals on"
   ]
  },
  {
   "cell_type": "code",
   "execution_count": 206,
   "id": "883a86ac",
   "metadata": {},
   "outputs": [],
   "source": [
    "stock = yf.Ticker(\"MSFT\").history(period=\"30y\")"
   ]
  },
  {
   "cell_type": "markdown",
   "id": "34b122b9",
   "metadata": {},
   "source": [
    "# Signals\n",
    "\n",
    "This Notebook will contain the generation of various technical, and technological signals. \n",
    "\n",
    "## Structure\n",
    "\n",
    "- Each signal will be calculated via a function \n",
    "- Each function will take in a time series as a pandas dataframe and any other relevant hyperparameters e.g. #days for a moving average"
   ]
  },
  {
   "cell_type": "markdown",
   "id": "bfb4e7ef",
   "metadata": {},
   "source": [
    "### Moving Average and Moving Average Crossover functions"
   ]
  },
  {
   "cell_type": "code",
   "execution_count": 281,
   "id": "10790bfc",
   "metadata": {},
   "outputs": [],
   "source": [
    "def moving_average(series, periods):\n",
    "    \"\"\"\n",
    "    Takes in a pandas dataframe time series and a number of days hyperparameter. \n",
    "    Outputs the moving average of the time series as a pandas dataframe. \n",
    "    \"\"\"\n",
    "    ma = series.rolling(periods).mean()\n",
    "    return ma\n",
    "\n",
    "def ma_crossover(ma1, ma2, strat=\"mom\"):\n",
    "    \"\"\"\n",
    "    This function calculates the moving average crossover signal. It automatically assumes the signal is based off of a \n",
    "    momentum strategy. \n",
    "    Inputs:\n",
    "    - ma1: the long term moving average\n",
    "    - ma2: the short term moving average \n",
    "    - strat: a string defining whether the strategy is momentum-\"mom\" or mean reversion-\"mv\"\n",
    "    \"\"\"\n",
    "    \n",
    "    # treating the data by ensuring: 1) no nans; 2) long term MA same length as short term MA\n",
    "    ma1 = ma1.dropna()\n",
    "    ma2 = ma2.dropna()\n",
    "    ma2 = ma2[ma1.index]\n",
    "    \n",
    "    # if momentum strategy\n",
    "    if strat==\"mom\":\n",
    "        \n",
    "        # locations where ma2 (short term MA) >= ma1 (long term MA): returns booleans\n",
    "        smax = ma2.ge(ma1)\n",
    "        \n",
    "        # converts booleans to integers\n",
    "        smax = smax.astype(int)\n",
    "        \n",
    "        return smax\n",
    "    \n",
    "    elif strat==\"mv\":\n",
    "        \n",
    "        # locations where ma1 (long term MA) >= ma2 (long term MA): returns booleans\n",
    "        smax = ma1.ge(ma2)\n",
    "        \n",
    "        # converts booleans to integers\n",
    "        smax = smax.astype(int)\n",
    "        \n",
    "        return smax\n",
    "        \n",
    "    else: \n",
    "        print(\"'strat' string is invalid. Please define whether the signal should be based off of a momentum 'mom' or mean reverting strategy.\")\n",
    "        \n",
    "# validating the functions - working        \n",
    "stock[\"200ma\"] = moving_average(stock[\"Close\"], 200)\n",
    "stock[\"50ma\"] = moving_average(stock[\"Close\"], 50)\n",
    "stock[\"Crossover_Signal\"] = ma_crossover(stock[\"200ma\"], stock[\"50ma\"])"
   ]
  },
  {
   "cell_type": "markdown",
   "id": "ed0b70ef",
   "metadata": {},
   "source": [
    "### Exponential Moving Average"
   ]
  },
  {
   "cell_type": "code",
   "execution_count": 283,
   "id": "4ae24b51",
   "metadata": {},
   "outputs": [],
   "source": [
    "def exponential_ma(series, periods):\n",
    "    \"\"\"\n",
    "    Takes in a pandas dataframe time series and a number of days hyperparameter. \n",
    "    Outputs the exponential moving average of the time series as a pandas dataframe. \n",
    "    \"\"\"\n",
    "    \n",
    "    exp_ma = series.ewm(span=periods, min_periods=periods).mean().dropna()\n",
    "    \n",
    "    return exp_ma"
   ]
  },
  {
   "cell_type": "markdown",
   "id": "a6305ad7",
   "metadata": {},
   "source": [
    "### Average True Range"
   ]
  },
  {
   "cell_type": "code",
   "execution_count": 122,
   "id": "48f3127a",
   "metadata": {},
   "outputs": [],
   "source": [
    "def avg_true_range(high, low, close):\n",
    "    \"\"\"\n",
    "    This function calculates the average true range.\n",
    "    It takes inputs of:\n",
    "    - high: pandas series containing high data for the entire period to calculate ATR\n",
    "    - low: pandas series containing low data for the entire period to calculate ATR\n",
    "    - close: pandas series containing close data for the entire period to calculate ATR\n",
    "    \"\"\"\n",
    "    \n",
    "    arg1 = high - low\n",
    "    arg2 = abs(high - low.shift(1))\n",
    "    arg3 = abs(low - close.shift(1))\n",
    "\n",
    "    tmp = pd.concat([arg1, arg2, arg3], axis=1).dropna()\n",
    "\n",
    "    TR = tmp.max(axis=1)\n",
    "    \n",
    "    ATR = moving_average(TR, 5).dropna()\n",
    "    \n",
    "    return ATR\n",
    "\n",
    "av_tr_ra = avg_true_range(stock[\"High\"], stock[\"Low\"], stock[\"Close\"])"
   ]
  },
  {
   "cell_type": "markdown",
   "id": "6731d175",
   "metadata": {},
   "source": [
    "### Donchian Channel"
   ]
  },
  {
   "cell_type": "code",
   "execution_count": 140,
   "id": "bf73cc56",
   "metadata": {},
   "outputs": [],
   "source": [
    "def donchian_channel(high, low, N): \n",
    "    \"\"\"\n",
    "    This function calculates the Donchian Channel. It takes inputs of:\n",
    "    - high: pandas series containing high data for the entire period to calculate DC\n",
    "    - low: pandas series containing low data for the entire period to calculate DC\n",
    "    - N: number of periods to calculate the DC on\n",
    "    \"\"\"\n",
    "    # calculating the upper, lower, and middle channel\n",
    "    UC = high.rolling(N).max()\n",
    "    LC = low.rolling(N).min()\n",
    "    MC = (UC + LC)/2\n",
    "\n",
    "    # concatenating each channel into a dataframe to return\n",
    "    channel = pd.concat([UC, MC, LC], axis=1).dropna()\n",
    "\n",
    "    # renaming the columns\n",
    "    channel = channel.rename(columns={0: \"Upper\", 1: \"Middle\", 2: \"Lower\"})\n",
    "    \n",
    "    return channel\n",
    "\n",
    "donch_chan = donchian_channel(stock[\"High\"], stock[\"Low\"], 10)"
   ]
  },
  {
   "cell_type": "markdown",
   "id": "c1e4ef86",
   "metadata": {},
   "source": [
    "### Customisable Range over a single time series "
   ]
  },
  {
   "cell_type": "code",
   "execution_count": 215,
   "id": "8f702baf",
   "metadata": {},
   "outputs": [],
   "source": [
    "def consolidating_in_range(series, N, percentage):\n",
    "    \"\"\"\n",
    "    This function calculates whether a stock is consolidating or not. \n",
    "    It returns 1 if the stock has been consolidating within a \"percentage\" range over the last N days,\n",
    "    and 0 if it hasn't. \n",
    "    The inputs required are:\n",
    "    - series: an input time series to calculate the consolidation periods on\n",
    "    - N: the number of periods to check for consolidation within\n",
    "    - percentage: the range the stock should be consolidating within\n",
    "    \n",
    "    The function returns a signal of 1's and 0's.\n",
    "    \n",
    "    An idea: combine this signal with a dataloader that obtains the most recent quarterly report and runs \"some tests\"\n",
    "    (to be defined) on whether the stock is doing well from a fundamental point of view, and then if it is, places a position. \n",
    "    \"\"\"\n",
    "    \n",
    "    # calculating the highs and lows \n",
    "    highs = series.rolling(N).max()\n",
    "    lows = series.rolling(N).min()\n",
    "    \n",
    "    # temporary variable to hold the adjusted highs\n",
    "    tmp = highs * (100 - percentage)/100\n",
    "    \n",
    "    # returns 1 or 0 representing a period the stock is consolidating for N days and vice versa\n",
    "    is_consolidating = lows.ge(tmp).astype(int)\n",
    "    \n",
    "    return is_consolidating\n",
    "\n",
    "signal = n_day_range(stock[\"Close\"], 15, 2)"
   ]
  },
  {
   "cell_type": "markdown",
   "id": "ba30d29f",
   "metadata": {},
   "source": [
    "### Fractal Indicator"
   ]
  },
  {
   "cell_type": "code",
   "execution_count": 264,
   "id": "ba212257",
   "metadata": {},
   "outputs": [],
   "source": [
    "def fractal_indicator(n, k, series):\n",
    "    \"\"\"\n",
    "    Calculates the fractal indicator according to Chapter 20 of \"New Technical Indicators in Python\" by Sofien Kabaar.\n",
    "    Takes inputs of:\n",
    "    - n: mean/standard deviation lookback period\n",
    "    - k: max/min lookback period \n",
    "    - series: pandas series to calculate the fractal indicator on \n",
    "    \n",
    "    Requirements for inputs: 1 <= k <= n \n",
    "    \n",
    "    The output is the fractal indicator. The FI indicates a trend reversal whenever it reaches or nears 1. If the market\n",
    "    is trending upwards, expect short term reversal to the downside. If the market is trending downwards, expect short term\n",
    "    reversal to the upside. \n",
    "    \"\"\"\n",
    "    \n",
    "    # calculating maxs, mins, means, and stds \n",
    "    maxes = series.rolling(k).max().dropna().rename(\"Max {}\".format(k))\n",
    "    mins = series.rolling(k).min().dropna().rename(\"Min {}\".format(k))\n",
    "    mean = series.rolling(n).mean().dropna().rename(\"Mean {}\".format(n))\n",
    "    std = series.rolling(n).std().dropna().rename(\"Std {}\".format(n))\n",
    "\n",
    "    # concatenating into a df\n",
    "    req_data = pd.concat([maxes, mins, mean, std], axis=1).dropna()\n",
    "\n",
    "    # calculating sub ranges \n",
    "    req_data[\"Max less Mean\"] = req_data[\"Max {}\".format(k)] - req_data[\"Mean {}\".format(n)]\n",
    "    req_data[\"Min less Mean\"] = req_data[\"Min {}\".format(k)] - req_data[\"Mean {}\".format(n)]\n",
    "\n",
    "    # calculating fractal indicator\n",
    "    req_data[\"Fractal Indicator\"] = (req_data[\"Max less Mean\"] - req_data[\"Min less Mean\"])/req_data[\"Std {}\".format(n)]\n",
    "    \n",
    "    return req_data[\"Fractal Indicator\"]\n",
    "\n",
    "n = 20\n",
    "k = 14\n",
    "FI = fractal_indicator(n, k, stock[\"Close\"])"
   ]
  },
  {
   "cell_type": "markdown",
   "id": "838af900",
   "metadata": {},
   "source": [
    "### Volatility Adjusted Stochastic Oscillator"
   ]
  },
  {
   "cell_type": "code",
   "execution_count": 274,
   "id": "d2ae128f",
   "metadata": {},
   "outputs": [],
   "source": [
    "def vol_adj_stoch_osc(series, lookback):\n",
    "    \"\"\"\n",
    "    This functions returns the volatility adjusted stochastic oscillator indicator from Chapter 19 of \"New Technical Indicators \n",
    "    in Python\" by Sofien Kabaar. \n",
    "    \n",
    "    It takes inputs of:\n",
    "    - series: pandas series to calculate the indicator on\n",
    "    - lookback: the lookback period to calculate the highs and lows \n",
    "    \n",
    "    It returns an indicator that suggests \"overbought\" > 80 and \"oversold\" < 20. \n",
    "    \"\"\"\n",
    "    maxes = series.rolling(lookback).max().dropna().rename(\"High\")\n",
    "    mins = series.rolling(lookback).min().dropna().rename(\"Low\")\n",
    "\n",
    "    df = pd.concat([series, maxes, mins], axis=1).dropna()\n",
    "\n",
    "    VA_stoch_osc = 100*((df[\"Close\"] - df[\"Low\"])/(df[\"High\"] - df[\"Low\"]))\n",
    "    \n",
    "    return VA_stoch_osc\n",
    "\n",
    "lookback = 14\n",
    "indicator = vol_adj_stoch_osc(stock[\"Close\"], lookback)"
   ]
  },
  {
   "cell_type": "code",
   "execution_count": null,
   "id": "7ea2f76b",
   "metadata": {},
   "outputs": [],
   "source": []
  }
 ],
 "metadata": {
  "kernelspec": {
   "display_name": "Python 3 (ipykernel)",
   "language": "python",
   "name": "python3"
  },
  "language_info": {
   "codemirror_mode": {
    "name": "ipython",
    "version": 3
   },
   "file_extension": ".py",
   "mimetype": "text/x-python",
   "name": "python",
   "nbconvert_exporter": "python",
   "pygments_lexer": "ipython3",
   "version": "3.7.9"
  }
 },
 "nbformat": 4,
 "nbformat_minor": 5
}
